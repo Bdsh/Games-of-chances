{
 "cells": [
  {
   "cell_type": "code",
   "execution_count": 41,
   "metadata": {},
   "outputs": [],
   "source": [
    "import random"
   ]
  },
  {
   "cell_type": "code",
   "execution_count": 92,
   "metadata": {},
   "outputs": [],
   "source": [
    "money = 100"
   ]
  },
  {
   "cell_type": "code",
   "execution_count": 93,
   "metadata": {},
   "outputs": [
    {
     "name": "stdout",
     "output_type": "stream",
     "text": [
      "100\n"
     ]
    }
   ],
   "source": [
    "print(money)"
   ]
  },
  {
   "cell_type": "code",
   "execution_count": 139,
   "metadata": {},
   "outputs": [],
   "source": [
    "def fliping_coin_game(bet, guess):\n",
    "    flip = random.randint(1, 2)\n",
    "    global money\n",
    "    print('Welcome to Heads or Tails')\n",
    "    \n",
    "    if flip == 1:\n",
    "        rslt = 'HEADS'\n",
    "        print('Outcome = Heads')\n",
    "    else:\n",
    "        rslt = 'TAILS'\n",
    "        print('Outcome = Tails')\n",
    "        \n",
    "    if rslt == guess.upper():\n",
    "        print(\"Congrats, you won\")\n",
    "        money += 1.5*bet\n",
    "        print (\"Your balance is \" + str(money))\n",
    "    \n",
    "    else:\n",
    "        print(\"Better luck next time\")\n",
    "        money -= bet\n",
    "        print (\"Your balance is \" + str(money))\n",
    "    "
   ]
  },
  {
   "cell_type": "code",
   "execution_count": 140,
   "metadata": {},
   "outputs": [
    {
     "name": "stdout",
     "output_type": "stream",
     "text": [
      "Welcome to Heads or Tails\n",
      "Outcome = Heads\n",
      "Congrats, you won\n",
      "Your balance is 185.0\n"
     ]
    }
   ],
   "source": [
    "fliping_coin_game(10,\"Heads\")"
   ]
  },
  {
   "cell_type": "code",
   "execution_count": 141,
   "metadata": {},
   "outputs": [
    {
     "name": "stdout",
     "output_type": "stream",
     "text": [
      "185.0\n"
     ]
    }
   ],
   "source": [
    "print(money)"
   ]
  },
  {
   "cell_type": "code",
   "execution_count": null,
   "metadata": {},
   "outputs": [],
   "source": []
  },
  {
   "cell_type": "code",
   "execution_count": null,
   "metadata": {},
   "outputs": [],
   "source": []
  },
  {
   "cell_type": "code",
   "execution_count": null,
   "metadata": {},
   "outputs": [],
   "source": []
  },
  {
   "cell_type": "code",
   "execution_count": null,
   "metadata": {},
   "outputs": [],
   "source": []
  }
 ],
 "metadata": {
  "kernelspec": {
   "display_name": "Python 3",
   "language": "python",
   "name": "python3"
  },
  "language_info": {
   "codemirror_mode": {
    "name": "ipython",
    "version": 3
   },
   "file_extension": ".py",
   "mimetype": "text/x-python",
   "name": "python",
   "nbconvert_exporter": "python",
   "pygments_lexer": "ipython3",
   "version": "3.8.3"
  }
 },
 "nbformat": 4,
 "nbformat_minor": 4
}
