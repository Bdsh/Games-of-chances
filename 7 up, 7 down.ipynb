{
 "cells": [
  {
   "cell_type": "code",
   "execution_count": 1,
   "metadata": {},
   "outputs": [],
   "source": [
    "import random"
   ]
  },
  {
   "cell_type": "code",
   "execution_count": 2,
   "metadata": {},
   "outputs": [],
   "source": [
    "money = 100"
   ]
  },
  {
   "cell_type": "code",
   "execution_count": 23,
   "metadata": {},
   "outputs": [],
   "source": [
    "def up_or_down(choice,bet):\n",
    "    print(\"Welcome to 7 up, 7 down\")\n",
    "    global money\n",
    "    dice = random.randint(1,12)\n",
    "    \n",
    "    if choice.lower() == \"up\" :\n",
    "        if dice > 6:\n",
    "            print(\"Outcome is \" + str(dice) + \".\")\n",
    "            money += bet\n",
    "            print (\"Your balance is \" + str(money))\n",
    "            \n",
    "        elif dice < 7:\n",
    "            print(\"Outcome is \" + str(dice) + \".\")\n",
    "            money -= bet\n",
    "            print (\"Your balance is \" + str(money))\n",
    "        \n",
    "    elif choice.lower() == \"down\" :\n",
    "        if dice > 6:\n",
    "            print(\"Outcome is \" + str(dice) + \".\")\n",
    "            money -= bet\n",
    "            print (\"Your balance is \" + str(money))\n",
    "            \n",
    "        elif dice < 7:\n",
    "            print(\"Outcome is \" + str(dice) + \".\")\n",
    "            money += bet\n",
    "            print (\"Your balance is \" + str(money))\n",
    "            \n",
    "    else:\n",
    "        print(\"Please select from 'up' or 'down'.\")\n",
    "        \n",
    "        \n",
    "    "
   ]
  },
  {
   "cell_type": "code",
   "execution_count": 24,
   "metadata": {},
   "outputs": [
    {
     "name": "stdout",
     "output_type": "stream",
     "text": [
      "Welcome to 7 up, 7 down\n",
      "Outcome is 10.\n",
      "Your balance is 160\n"
     ]
    }
   ],
   "source": [
    "up_or_down('up',10)"
   ]
  },
  {
   "cell_type": "code",
   "execution_count": 25,
   "metadata": {},
   "outputs": [
    {
     "name": "stdout",
     "output_type": "stream",
     "text": [
      "160\n"
     ]
    }
   ],
   "source": [
    "print(money)"
   ]
  },
  {
   "cell_type": "code",
   "execution_count": null,
   "metadata": {},
   "outputs": [],
   "source": []
  }
 ],
 "metadata": {
  "kernelspec": {
   "display_name": "Python 3",
   "language": "python",
   "name": "python3"
  },
  "language_info": {
   "codemirror_mode": {
    "name": "ipython",
    "version": 3
   },
   "file_extension": ".py",
   "mimetype": "text/x-python",
   "name": "python",
   "nbconvert_exporter": "python",
   "pygments_lexer": "ipython3",
   "version": "3.8.3"
  }
 },
 "nbformat": 4,
 "nbformat_minor": 4
}
